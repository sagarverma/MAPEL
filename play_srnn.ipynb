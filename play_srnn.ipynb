{
 "cells": [
  {
   "cell_type": "code",
   "execution_count": 1,
   "metadata": {},
   "outputs": [],
   "source": [
    "import torch\n",
    "import torch.nn as nn\n",
    "import torch.nn.functional as F\n",
    "import torch.autograd as autograd"
   ]
  },
  {
   "cell_type": "code",
   "execution_count": 70,
   "metadata": {},
   "outputs": [],
   "source": [
    "class Network(nn.Module):\n",
    "    def __init__(self):\n",
    "        super(Network, self).__init__()\n",
    "        nn.Module.__init__(self)\n",
    "        self.l1 = nn.Linear(500, 1024)\n",
    "        self.l2 = nn.Linear(1024, 256)\n",
    "        self.l3 = nn.Linear(256, 32)\n",
    "\n",
    "    def forward(self, x):\n",
    "        x = F.relu(self.l1(x))\n",
    "        x = F.relu(self.l2(x))\n",
    "        x = F.relu(self.l3(x))\n",
    "        return x\n",
    "    \n",
    "class SRPNet(nn.Module):\n",
    "    def __init__(self, num_agents):\n",
    "        super(SRPNet, self).__init__()\n",
    "        self.num_agents = num_agents\n",
    "        \n",
    "        self.feature = Network()\n",
    "        \n",
    "        self.ll1 = nn.Linear(num_agents + 1, 32)\n",
    "        self.rnn = nn.RNNCell(64, 32)\n",
    "        self.ll2 = nn.Linear(32, 9)\n",
    "        \n",
    "    def forward(self, inp, vis, hid):\n",
    "        feature = self.feature(inp)\n",
    "        \n",
    "        ll1_out = self.ll1(vis)\n",
    "        rnn_inp = torch.cat([feature, ll1_out], dim=1)\n",
    "        out = self.rnn(rnn_inp)\n",
    "        ll2_out = self.ll2(out)\n",
    "        \n",
    "        return out, ll2_out"
   ]
  },
  {
   "cell_type": "code",
   "execution_count": 71,
   "metadata": {},
   "outputs": [],
   "source": [
    "num_agents = 2\n",
    "hid = torch.randn(8, 32)\n",
    "\n",
    "stnet = SRPNet(num_agents)\n",
    "for i in range(10):\n",
    "    inp = torch.randn(8, 500)\n",
    "    vis = torch.randn(8, num_agents+1)\n",
    "    \n",
    "    hid_out, ll2_out = stnet(inp, vis, hid)"
   ]
  },
  {
   "cell_type": "code",
   "execution_count": null,
   "metadata": {},
   "outputs": [],
   "source": []
  }
 ],
 "metadata": {
  "kernelspec": {
   "display_name": "Python 2",
   "language": "python",
   "name": "python2"
  },
  "language_info": {
   "codemirror_mode": {
    "name": "ipython",
    "version": 2
   },
   "file_extension": ".py",
   "mimetype": "text/x-python",
   "name": "python",
   "nbconvert_exporter": "python",
   "pygments_lexer": "ipython2",
   "version": "2.7.12"
  }
 },
 "nbformat": 4,
 "nbformat_minor": 2
}
