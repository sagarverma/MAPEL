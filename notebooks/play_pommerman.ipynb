{
 "cells": [
  {
   "cell_type": "code",
   "execution_count": 2,
   "metadata": {},
   "outputs": [],
   "source": [
    "import pommerman\n",
    "from pommerman.agents import BaseAgent, SimpleAgent\n",
    "from pommerman import constants"
   ]
  },
  {
   "cell_type": "code",
   "execution_count": 29,
   "metadata": {},
   "outputs": [],
   "source": [
    "sa = SimpleAgent()"
   ]
  },
  {
   "cell_type": "code",
   "execution_count": 30,
   "metadata": {},
   "outputs": [],
   "source": [
    "env = pommerman.make('PommeFFACompetition-v0', [sa])"
   ]
  },
  {
   "cell_type": "code",
   "execution_count": 43,
   "metadata": {},
   "outputs": [
    {
     "data": {
      "text/plain": [
       "[{'alive': [10], 'board': array([[ 0,  1,  2,  2,  1,  2,  1,  0,  0,  1,  1],\n",
       "         [ 1, 10,  0,  0,  2,  2,  2,  0,  0, 13,  1],\n",
       "         [ 2,  0,  0,  2,  0,  0,  1,  1,  2,  0,  0],\n",
       "         [ 2,  0,  2,  0,  2,  1,  0,  2,  1,  0,  0],\n",
       "         [ 1,  2,  0,  2,  0,  1,  1,  1,  1,  2,  0],\n",
       "         [ 2,  2,  0,  1,  1,  0,  2,  0,  2,  2,  2],\n",
       "         [ 1,  2,  1,  0,  1,  2,  0,  1,  1,  2,  2],\n",
       "         [ 0,  0,  1,  2,  1,  0,  1,  0,  0,  0,  1],\n",
       "         [ 0,  0,  2,  1,  1,  2,  1,  0,  0,  0,  2],\n",
       "         [ 1, 11,  0,  0,  2,  2,  2,  0,  0, 12,  1],\n",
       "         [ 1,  1,  0,  0,  0,  2,  2,  1,  2,  1,  0]], dtype=uint8), 'bomb_blast_strength': array([[0., 0., 0., 0., 0., 0., 0., 0., 0., 0., 0.],\n",
       "         [0., 0., 0., 0., 0., 0., 0., 0., 0., 0., 0.],\n",
       "         [0., 0., 0., 0., 0., 0., 0., 0., 0., 0., 0.],\n",
       "         [0., 0., 0., 0., 0., 0., 0., 0., 0., 0., 0.],\n",
       "         [0., 0., 0., 0., 0., 0., 0., 0., 0., 0., 0.],\n",
       "         [0., 0., 0., 0., 0., 0., 0., 0., 0., 0., 0.],\n",
       "         [0., 0., 0., 0., 0., 0., 0., 0., 0., 0., 0.],\n",
       "         [0., 0., 0., 0., 0., 0., 0., 0., 0., 0., 0.],\n",
       "         [0., 0., 0., 0., 0., 0., 0., 0., 0., 0., 0.],\n",
       "         [0., 0., 0., 0., 0., 0., 0., 0., 0., 0., 0.],\n",
       "         [0., 0., 0., 0., 0., 0., 0., 0., 0., 0., 0.]]), 'bomb_life': array([[0., 0., 0., 0., 0., 0., 0., 0., 0., 0., 0.],\n",
       "         [0., 0., 0., 0., 0., 0., 0., 0., 0., 0., 0.],\n",
       "         [0., 0., 0., 0., 0., 0., 0., 0., 0., 0., 0.],\n",
       "         [0., 0., 0., 0., 0., 0., 0., 0., 0., 0., 0.],\n",
       "         [0., 0., 0., 0., 0., 0., 0., 0., 0., 0., 0.],\n",
       "         [0., 0., 0., 0., 0., 0., 0., 0., 0., 0., 0.],\n",
       "         [0., 0., 0., 0., 0., 0., 0., 0., 0., 0., 0.],\n",
       "         [0., 0., 0., 0., 0., 0., 0., 0., 0., 0., 0.],\n",
       "         [0., 0., 0., 0., 0., 0., 0., 0., 0., 0., 0.],\n",
       "         [0., 0., 0., 0., 0., 0., 0., 0., 0., 0., 0.],\n",
       "         [0., 0., 0., 0., 0., 0., 0., 0., 0., 0., 0.]]), 'game_type': 1, 'game_env': 'pommerman.envs.v0:Pomme', 'position': (1,\n",
       "   1), 'blast_strength': 2, 'can_kick': False, 'teammate': <Item.AgentDummy: 9>, 'ammo': 1, 'enemies': [<Item.Agent1: 11>,\n",
       "   <Item.Agent2: 12>,\n",
       "   <Item.Agent3: 13>], 'step_count': 0}]"
      ]
     },
     "execution_count": 43,
     "metadata": {},
     "output_type": "execute_result"
    }
   ],
   "source": [
    "env.reset()"
   ]
  },
  {
   "cell_type": "code",
   "execution_count": 10,
   "metadata": {},
   "outputs": [
    {
     "data": {
      "text/plain": [
       "[{'alive': [10], 'board': array([[ 0,  2,  1,  0,  1,  2,  2,  1,  0,  0,  1],\n",
       "         [ 2, 10,  0,  0,  2,  2,  2,  0,  0, 13,  2],\n",
       "         [ 1,  0,  0,  2,  0,  2,  1,  1,  2,  0,  1],\n",
       "         [ 0,  0,  2,  0,  0,  1,  0,  1,  1,  0,  0],\n",
       "         [ 1,  2,  0,  0,  0,  0,  1,  2,  1,  2,  2],\n",
       "         [ 2,  2,  2,  1,  0,  0,  1,  1,  1,  2,  1],\n",
       "         [ 2,  2,  1,  0,  1,  1,  0,  2,  2,  2,  0],\n",
       "         [ 1,  0,  1,  1,  2,  1,  2,  0,  1,  0,  2],\n",
       "         [ 0,  0,  2,  1,  1,  1,  2,  1,  0,  0,  0],\n",
       "         [ 0, 11,  0,  0,  2,  2,  2,  0,  0, 12,  1],\n",
       "         [ 1,  2,  1,  0,  2,  1,  0,  2,  0,  1,  0]], dtype=uint8), 'bomb_blast_strength': array([[0., 0., 0., 0., 0., 0., 0., 0., 0., 0., 0.],\n",
       "         [0., 0., 0., 0., 0., 0., 0., 0., 0., 0., 0.],\n",
       "         [0., 0., 0., 0., 0., 0., 0., 0., 0., 0., 0.],\n",
       "         [0., 0., 0., 0., 0., 0., 0., 0., 0., 0., 0.],\n",
       "         [0., 0., 0., 0., 0., 0., 0., 0., 0., 0., 0.],\n",
       "         [0., 0., 0., 0., 0., 0., 0., 0., 0., 0., 0.],\n",
       "         [0., 0., 0., 0., 0., 0., 0., 0., 0., 0., 0.],\n",
       "         [0., 0., 0., 0., 0., 0., 0., 0., 0., 0., 0.],\n",
       "         [0., 0., 0., 0., 0., 0., 0., 0., 0., 0., 0.],\n",
       "         [0., 0., 0., 0., 0., 0., 0., 0., 0., 0., 0.],\n",
       "         [0., 0., 0., 0., 0., 0., 0., 0., 0., 0., 0.]]), 'bomb_life': array([[0., 0., 0., 0., 0., 0., 0., 0., 0., 0., 0.],\n",
       "         [0., 0., 0., 0., 0., 0., 0., 0., 0., 0., 0.],\n",
       "         [0., 0., 0., 0., 0., 0., 0., 0., 0., 0., 0.],\n",
       "         [0., 0., 0., 0., 0., 0., 0., 0., 0., 0., 0.],\n",
       "         [0., 0., 0., 0., 0., 0., 0., 0., 0., 0., 0.],\n",
       "         [0., 0., 0., 0., 0., 0., 0., 0., 0., 0., 0.],\n",
       "         [0., 0., 0., 0., 0., 0., 0., 0., 0., 0., 0.],\n",
       "         [0., 0., 0., 0., 0., 0., 0., 0., 0., 0., 0.],\n",
       "         [0., 0., 0., 0., 0., 0., 0., 0., 0., 0., 0.],\n",
       "         [0., 0., 0., 0., 0., 0., 0., 0., 0., 0., 0.],\n",
       "         [0., 0., 0., 0., 0., 0., 0., 0., 0., 0., 0.]]), 'game_type': 1, 'game_env': 'pommerman.envs.v0:Pomme', 'position': (1,\n",
       "   1), 'blast_strength': 2, 'can_kick': False, 'teammate': <Item.AgentDummy: 9>, 'ammo': 1, 'enemies': [<Item.Agent1: 11>,\n",
       "   <Item.Agent2: 12>,\n",
       "   <Item.Agent3: 13>], 'step_count': 0}]"
      ]
     },
     "execution_count": 10,
     "metadata": {},
     "output_type": "execute_result"
    }
   ],
   "source": [
    "obs"
   ]
  },
  {
   "cell_type": "code",
   "execution_count": 7,
   "metadata": {},
   "outputs": [],
   "source": [
    "import dungeonGenerator\n",
    "import numpy as np\n",
    "import cv2\n",
    "%matplotlib inline\n",
    "import matplotlib.pyplot as plt"
   ]
  },
  {
   "cell_type": "code",
   "execution_count": 6,
   "metadata": {},
   "outputs": [],
   "source": [
    "dungeon = dungeonGenerator.dungeonGenerator(32,32)\n",
    "dungeon.placeRandomRooms(2, 10, 5, 2)\n",
    "grid = np.asarray(dungeon.grid)"
   ]
  },
  {
   "cell_type": "code",
   "execution_count": 9,
   "metadata": {},
   "outputs": [
    {
     "data": {
      "text/plain": [
       "<matplotlib.image.AxesImage at 0x1142df978>"
      ]
     },
     "execution_count": 9,
     "metadata": {},
     "output_type": "execute_result"
    },
    {
     "data": {
      "image/png": "[encoded data removed]",
      "text/plain": [
       "<matplotlib.figure.Figure at 0x114269278>"
      ]
     },
     "metadata": {},
     "output_type": "display_data"
    }
   ],
   "source": [
    "plt.imshow(grid)"
   ]
  },
  {
   "cell_type": "code",
   "execution_count": 10,
   "metadata": {},
   "outputs": [
    {
     "data": {
      "text/plain": [
       "True"
      ]
     },
     "execution_count": 10,
     "metadata": {},
     "output_type": "execute_result"
    }
   ],
   "source": [
    "cv2.imwrite('fixed_grid.png', grid*255)"
   ]
  },
  {
   "cell_type": "code",
   "execution_count": 12,
   "metadata": {},
   "outputs": [],
   "source": [
    "np.save('fixed_grid.npy', grid)"
   ]
  },
  {
   "cell_type": "code",
   "execution_count": null,
   "metadata": {},
   "outputs": [],
   "source": []
  }
 ],
 "metadata": {
  "kernelspec": {
   "display_name": "Python 3",
   "language": "python",
   "name": "python3"
  },
  "language_info": {
   "codemirror_mode": {
    "name": "ipython",
    "version": 3
   },
   "file_extension": ".py",
   "mimetype": "text/x-python",
   "name": "python",
   "nbconvert_exporter": "python",
   "pygments_lexer": "ipython3",
   "version": "3.6.4"
  }
 },
 "nbformat": 4,
 "nbformat_minor": 2
}
